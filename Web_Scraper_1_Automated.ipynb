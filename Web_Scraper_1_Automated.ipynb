{
 "cells": [
  {
   "cell_type": "code",
   "execution_count": 1,
   "id": "9bd3c110-bf4a-4456-94d9-a90bb05502c4",
   "metadata": {},
   "outputs": [
    {
     "name": "stdout",
     "output_type": "stream",
     "text": [
      "Collecting selenium\n",
      "  Downloading selenium-4.7.2-py3-none-any.whl (6.3 MB)\n",
      "Collecting trio~=0.17\n",
      "  Downloading trio-0.22.0-py3-none-any.whl (384 kB)\n",
      "Collecting trio-websocket~=0.9\n",
      "  Downloading trio_websocket-0.9.2-py3-none-any.whl (16 kB)\n",
      "Requirement already satisfied: urllib3[socks]~=1.26 in c:\\users\\frank\\anaconda3\\lib\\site-packages (from selenium) (1.26.9)\n",
      "Requirement already satisfied: certifi>=2021.10.8 in c:\\users\\frank\\anaconda3\\lib\\site-packages (from selenium) (2021.10.8)\n",
      "Collecting exceptiongroup>=1.0.0rc9\n",
      "  Downloading exceptiongroup-1.0.4-py3-none-any.whl (14 kB)\n",
      "Requirement already satisfied: sniffio in c:\\users\\frank\\anaconda3\\lib\\site-packages (from trio~=0.17->selenium) (1.2.0)\n",
      "Requirement already satisfied: attrs>=19.2.0 in c:\\users\\frank\\anaconda3\\lib\\site-packages (from trio~=0.17->selenium) (21.4.0)\n",
      "Collecting outcome\n",
      "  Downloading outcome-1.2.0-py2.py3-none-any.whl (9.7 kB)\n",
      "Requirement already satisfied: sortedcontainers in c:\\users\\frank\\anaconda3\\lib\\site-packages (from trio~=0.17->selenium) (2.4.0)\n",
      "Collecting async-generator>=1.9\n",
      "  Downloading async_generator-1.10-py3-none-any.whl (18 kB)\n",
      "Requirement already satisfied: idna in c:\\users\\frank\\anaconda3\\lib\\site-packages (from trio~=0.17->selenium) (3.3)\n",
      "Requirement already satisfied: cffi>=1.14 in c:\\users\\frank\\anaconda3\\lib\\site-packages (from trio~=0.17->selenium) (1.15.0)\n",
      "Requirement already satisfied: pycparser in c:\\users\\frank\\anaconda3\\lib\\site-packages (from cffi>=1.14->trio~=0.17->selenium) (2.21)\n",
      "Collecting wsproto>=0.14\n",
      "  Downloading wsproto-1.2.0-py3-none-any.whl (24 kB)\n",
      "Requirement already satisfied: PySocks!=1.5.7,<2.0,>=1.5.6 in c:\\users\\frank\\anaconda3\\lib\\site-packages (from urllib3[socks]~=1.26->selenium) (1.7.1)\n",
      "Collecting h11<1,>=0.9.0\n",
      "  Downloading h11-0.14.0-py3-none-any.whl (58 kB)\n",
      "Installing collected packages: outcome, h11, exceptiongroup, async-generator, wsproto, trio, trio-websocket, selenium\n",
      "Successfully installed async-generator-1.10 exceptiongroup-1.0.4 h11-0.14.0 outcome-1.2.0 selenium-4.7.2 trio-0.22.0 trio-websocket-0.9.2 wsproto-1.2.0\n",
      "Collecting msedge-selenium-tools\n",
      "  Downloading msedge_selenium_tools-3.141.4-py3-none-any.whl (15 kB)\n",
      "Collecting selenium==3.141\n",
      "  Downloading selenium-3.141.0-py2.py3-none-any.whl (904 kB)\n",
      "Requirement already satisfied: urllib3 in c:\\users\\frank\\anaconda3\\lib\\site-packages (from selenium==3.141->msedge-selenium-tools) (1.26.9)\n",
      "Installing collected packages: selenium, msedge-selenium-tools\n",
      "  Attempting uninstall: selenium\n",
      "    Found existing installation: selenium 4.7.2\n",
      "    Uninstalling selenium-4.7.2:\n",
      "      Successfully uninstalled selenium-4.7.2\n",
      "Successfully installed msedge-selenium-tools-3.141.4 selenium-3.141.0\n",
      "Collecting bs4\n",
      "  Downloading bs4-0.0.1.tar.gz (1.1 kB)\n",
      "Requirement already satisfied: beautifulsoup4 in c:\\users\\frank\\anaconda3\\lib\\site-packages (from bs4) (4.11.1)\n",
      "Requirement already satisfied: soupsieve>1.2 in c:\\users\\frank\\anaconda3\\lib\\site-packages (from beautifulsoup4->bs4) (2.3.1)\n",
      "Building wheels for collected packages: bs4\n",
      "  Building wheel for bs4 (setup.py): started\n",
      "  Building wheel for bs4 (setup.py): finished with status 'done'\n",
      "  Created wheel for bs4: filename=bs4-0.0.1-py3-none-any.whl size=1272 sha256=c5e785c696c1a9d7fa40a0af6bda087157b0d36fb13ee529cd2d01dd68538b5f\n",
      "  Stored in directory: c:\\users\\frank\\appdata\\local\\pip\\cache\\wheels\\73\\2b\\cb\\099980278a0c9a3e57ff1a89875ec07bfa0b6fcbebb9a8cad3\n",
      "Successfully built bs4\n",
      "Installing collected packages: bs4\n",
      "Successfully installed bs4-0.0.1\n"
     ]
    }
   ],
   "source": [
    "!pip install selenium\n",
    "!pip install msedge-selenium-tools\n",
    "!pip install bs4"
   ]
  },
  {
   "cell_type": "code",
   "execution_count": 3,
   "id": "b2d44438-6b57-4e02-84c3-17a15b67d03b",
   "metadata": {},
   "outputs": [
    {
     "name": "stdout",
     "output_type": "stream",
     "text": [
      "Collecting chromedriver_binary==108.0.5359.71.0\n",
      "  Downloading chromedriver-binary-108.0.5359.71.0.tar.gz (5.1 kB)\n",
      "Building wheels for collected packages: chromedriver-binary\n",
      "  Building wheel for chromedriver-binary (setup.py): started\n",
      "  Building wheel for chromedriver-binary (setup.py): finished with status 'done'\n",
      "  Created wheel for chromedriver-binary: filename=chromedriver_binary-108.0.5359.71.0-py3-none-any.whl size=6911327 sha256=63cfd340c4e02383754a50f447d199d98a888089a9a91901bd09c33fae8f824b\n",
      "  Stored in directory: c:\\users\\frank\\appdata\\local\\pip\\cache\\wheels\\f6\\59\\22\\efc96e2766867abd8f2d1d3dd6be102a39ad6ab1d2e19e9474\n",
      "Successfully built chromedriver-binary\n",
      "Installing collected packages: chromedriver-binary\n",
      "Successfully installed chromedriver-binary-108.0.5359.71.0\n"
     ]
    }
   ],
   "source": [
    "!pip install chromedriver_binary==108.0.5359.71.0"
   ]
  },
  {
   "cell_type": "code",
   "execution_count": 4,
   "id": "037c0f31-56e0-42c7-99d3-782f07c45ac0",
   "metadata": {},
   "outputs": [],
   "source": [
    "from selenium import webdriver\n",
    "import chromedriver_binary\n",
    "\n",
    "#for MSEdge\n",
    "from msedge.selenium_tools import Edge, EdgeOptions\n",
    "\n",
    "import csv"
   ]
  },
  {
   "cell_type": "code",
   "execution_count": 5,
   "id": "f45d82ef-5936-4a14-af03-a6bc49930997",
   "metadata": {},
   "outputs": [],
   "source": [
    "# for chrome\n",
    "\n",
    "driver = webdriver.Chrome()\n",
    "\n",
    "# # for Firefox\n",
    "# driver = webdriver.Firefox()\n",
    "\n",
    "# # for MSEdge\n",
    "# options = EdgeOptions()\n",
    "# options.use_chromium = True\n",
    "# driver = Edge(options=options)"
   ]
  },
  {
   "cell_type": "code",
   "execution_count": 6,
   "id": "183b12fa-0871-47bd-990c-9ade447fcfa2",
   "metadata": {},
   "outputs": [],
   "source": [
    "url = 'https://www.amazon.com/'\n",
    "driver.get(url)"
   ]
  },
  {
   "cell_type": "code",
   "execution_count": 13,
   "id": "f0532f5b-39d6-462f-a56e-457a6ed01f13",
   "metadata": {},
   "outputs": [],
   "source": [
    "def my_url(keyword):\n",
    "    temp = 'https://www.amazon.com/s?k={}&crid=MV0KIF6CZWSJ&sprefix={}%2Caps%2C304&ref=nb_sb_noss_1'\n",
    "    keyword = keyword.replace(' ','+')\n",
    "    return temp.format(keyword, keyword)"
   ]
  },
  {
   "cell_type": "code",
   "execution_count": 14,
   "id": "d3ae9395-3ce2-4b86-89d6-99418ebed152",
   "metadata": {},
   "outputs": [
    {
     "data": {
      "text/plain": [
       "'https://www.amazon.com/s?k=laptop+Charger&crid=MV0KIF6CZWSJ&sprefix=laptop+Charger%2Caps%2C304&ref=nb_sb_noss_1'"
      ]
     },
     "execution_count": 14,
     "metadata": {},
     "output_type": "execute_result"
    }
   ],
   "source": [
    "url = my_url('laptop Charger')\n",
    "\n",
    "url"
   ]
  },
  {
   "cell_type": "markdown",
   "id": "8389970c-2738-45aa-b982-880dd46f1101",
   "metadata": {},
   "source": [
    "# Generic Amazon Scraper Function"
   ]
  },
  {
   "cell_type": "code",
   "execution_count": 30,
   "id": "247a4e69-1bfb-42f1-aa69-bcf860694790",
   "metadata": {},
   "outputs": [],
   "source": [
    "from selenium import webdriver\n",
    "import chromedriver_binary\n",
    "\n",
    "#for MSEdge\n",
    "from msedge.selenium_tools import Edge, EdgeOptions\n",
    "\n",
    "import csv\n",
    "\n",
    "\n",
    "def my_url(keyword):\n",
    "    temp = 'https://www.amazon.com/s?k={}&crid=MV0KIF6CZWSJ&sprefix={}%2Caps%2C304&ref=nb_sb_noss_1'\n",
    "    keyword = keyword.replace(' ','+')\n",
    "    url = temp.format(keyword, keyword)\n",
    "    \n",
    "    url +='&page{}'\n",
    "    \n",
    "    return url\n",
    "\n",
    "def extract_records(obj):\n",
    "    atag=obj.h2.a\n",
    "    description=obj.h2.a.text.strip()\n",
    "    url='https://www.amazon.com/'+atag.get('href')\n",
    "    \n",
    "    try:\n",
    "        parent = obj.find('span', 'a-price')\n",
    "        price = parent.find('span', 'a-offscreen').text\n",
    "    except AttributeError:\n",
    "        return\n",
    "    try:\n",
    "        rate = obj.find('span','a-icon-alt').text\n",
    "        counts_review = obj.find('span','a-size-base s-underline-text').text\n",
    "    except AttributeError:\n",
    "        rate = ' '\n",
    "        counts_review = ' '\n",
    "    image = obj.find('img',{'class':'s-image'}).get('src')\n",
    "    \n",
    "    result = (description, price, rate, counts_review, url, image)\n",
    "    return result\n",
    "\n",
    "def main(keyword):\n",
    "    driver = webdriver.Chrome()\n",
    "    \n",
    "    records = []\n",
    "    url = my_url(keyword)\n",
    "    \n",
    "    for page in range(1,3):\n",
    "        driver.get(url.format(page))\n",
    "        from bs4 import BeautifulSoup\n",
    "        soup = BeautifulSoup(driver.page_source,'html.parser')\n",
    "        soup_results = soup.find_all('div', {'data-component-type':'s-search-result'})\n",
    "        \n",
    "        for item in soup_results:\n",
    "            record = extract_records(item)\n",
    "            if record:\n",
    "                records.append(record)\n",
    "        \n",
    "        with open('result.csv','w', newline = '', encoding='utf-8') as f:\n",
    "            writer = csv.writer(f)\n",
    "            writer.writerow(['Description', 'Price', 'Rate', 'Review Counts', 'URL', 'Image'])\n",
    "            writer.writerows(records)"
   ]
  },
  {
   "cell_type": "code",
   "execution_count": 33,
   "id": "c3efe9ee-7270-4af3-82e4-2d78db308a5c",
   "metadata": {},
   "outputs": [],
   "source": [
    "main('baby cloth')"
   ]
  },
  {
   "cell_type": "code",
   "execution_count": 34,
   "id": "e79b373d-b478-467e-bf2b-d79873c9dd82",
   "metadata": {},
   "outputs": [],
   "source": [
    "import pandas as pd"
   ]
  },
  {
   "cell_type": "code",
   "execution_count": 35,
   "id": "0b82bc6b-8647-4c67-ab4f-7c340202f313",
   "metadata": {},
   "outputs": [],
   "source": [
    "df = pd.read_csv('result.csv')"
   ]
  },
  {
   "cell_type": "code",
   "execution_count": 36,
   "id": "70b5e45f-237c-4dbc-9818-486050fcd489",
   "metadata": {},
   "outputs": [
    {
     "data": {
      "text/html": [
       "<div>\n",
       "<style scoped>\n",
       "    .dataframe tbody tr th:only-of-type {\n",
       "        vertical-align: middle;\n",
       "    }\n",
       "\n",
       "    .dataframe tbody tr th {\n",
       "        vertical-align: top;\n",
       "    }\n",
       "\n",
       "    .dataframe thead th {\n",
       "        text-align: right;\n",
       "    }\n",
       "</style>\n",
       "<table border=\"1\" class=\"dataframe\">\n",
       "  <thead>\n",
       "    <tr style=\"text-align: right;\">\n",
       "      <th></th>\n",
       "      <th>Description</th>\n",
       "      <th>Price</th>\n",
       "      <th>Rate</th>\n",
       "      <th>Review Counts</th>\n",
       "      <th>URL</th>\n",
       "      <th>Image</th>\n",
       "    </tr>\n",
       "  </thead>\n",
       "  <tbody>\n",
       "    <tr>\n",
       "      <th>0</th>\n",
       "      <td>Simple Joys by Carter's Unisex Babies' Washclo...</td>\n",
       "      <td>$9.00</td>\n",
       "      <td>4.7 out of 5 stars</td>\n",
       "      <td>(2,561)</td>\n",
       "      <td>https://www.amazon.com//gp/slredirect/picassoR...</td>\n",
       "      <td>https://m.media-amazon.com/images/I/81iV5-cxHP...</td>\n",
       "    </tr>\n",
       "    <tr>\n",
       "      <th>1</th>\n",
       "      <td>Yoofoss Muslin Burp Cloths for Baby 10 Pack 10...</td>\n",
       "      <td>$18.95</td>\n",
       "      <td>4.7 out of 5 stars</td>\n",
       "      <td>(15,470)</td>\n",
       "      <td>https://www.amazon.com//Muslin-Cloths-Cotton-A...</td>\n",
       "      <td>https://m.media-amazon.com/images/I/51ByeYwSPs...</td>\n",
       "    </tr>\n",
       "    <tr>\n",
       "      <th>2</th>\n",
       "      <td>Orighty Baby Washcloths 24-Pack, Microfiber Co...</td>\n",
       "      <td>$8.99</td>\n",
       "      <td>4.6 out of 5 stars</td>\n",
       "      <td>(849)</td>\n",
       "      <td>https://www.amazon.com//Orighty-Washcloths-Mic...</td>\n",
       "      <td>https://m.media-amazon.com/images/I/71yr15w-RT...</td>\n",
       "    </tr>\n",
       "    <tr>\n",
       "      <th>3</th>\n",
       "      <td>Bamboo Baby Washcloths - 2 Layer Soft Absorben...</td>\n",
       "      <td>$9.98</td>\n",
       "      <td>4.8 out of 5 stars</td>\n",
       "      <td>(14,893)</td>\n",
       "      <td>https://www.amazon.com//Organic-Bamboo-Baby-Wa...</td>\n",
       "      <td>https://m.media-amazon.com/images/I/61jrCipyr3...</td>\n",
       "    </tr>\n",
       "    <tr>\n",
       "      <th>4</th>\n",
       "      <td>Simple Joys by Carter's Unisex Babies' Washclo...</td>\n",
       "      <td>$9.00</td>\n",
       "      <td>4.7 out of 5 stars</td>\n",
       "      <td>(2,561)</td>\n",
       "      <td>https://www.amazon.com//Simple-Joys-Carters-Wa...</td>\n",
       "      <td>https://m.media-amazon.com/images/I/81iV5-cxHP...</td>\n",
       "    </tr>\n",
       "  </tbody>\n",
       "</table>\n",
       "</div>"
      ],
      "text/plain": [
       "                                         Description   Price  \\\n",
       "0  Simple Joys by Carter's Unisex Babies' Washclo...   $9.00   \n",
       "1  Yoofoss Muslin Burp Cloths for Baby 10 Pack 10...  $18.95   \n",
       "2  Orighty Baby Washcloths 24-Pack, Microfiber Co...   $8.99   \n",
       "3  Bamboo Baby Washcloths - 2 Layer Soft Absorben...   $9.98   \n",
       "4  Simple Joys by Carter's Unisex Babies' Washclo...   $9.00   \n",
       "\n",
       "                 Rate Review Counts  \\\n",
       "0  4.7 out of 5 stars       (2,561)   \n",
       "1  4.7 out of 5 stars      (15,470)   \n",
       "2  4.6 out of 5 stars         (849)   \n",
       "3  4.8 out of 5 stars      (14,893)   \n",
       "4  4.7 out of 5 stars       (2,561)   \n",
       "\n",
       "                                                 URL  \\\n",
       "0  https://www.amazon.com//gp/slredirect/picassoR...   \n",
       "1  https://www.amazon.com//Muslin-Cloths-Cotton-A...   \n",
       "2  https://www.amazon.com//Orighty-Washcloths-Mic...   \n",
       "3  https://www.amazon.com//Organic-Bamboo-Baby-Wa...   \n",
       "4  https://www.amazon.com//Simple-Joys-Carters-Wa...   \n",
       "\n",
       "                                               Image  \n",
       "0  https://m.media-amazon.com/images/I/81iV5-cxHP...  \n",
       "1  https://m.media-amazon.com/images/I/51ByeYwSPs...  \n",
       "2  https://m.media-amazon.com/images/I/71yr15w-RT...  \n",
       "3  https://m.media-amazon.com/images/I/61jrCipyr3...  \n",
       "4  https://m.media-amazon.com/images/I/81iV5-cxHP...  "
      ]
     },
     "execution_count": 36,
     "metadata": {},
     "output_type": "execute_result"
    }
   ],
   "source": [
    "df.head()"
   ]
  }
 ],
 "metadata": {
  "kernelspec": {
   "display_name": "Python 3 (ipykernel)",
   "language": "python",
   "name": "python3"
  },
  "language_info": {
   "codemirror_mode": {
    "name": "ipython",
    "version": 3
   },
   "file_extension": ".py",
   "mimetype": "text/x-python",
   "name": "python",
   "nbconvert_exporter": "python",
   "pygments_lexer": "ipython3",
   "version": "3.9.12"
  }
 },
 "nbformat": 4,
 "nbformat_minor": 5
}
